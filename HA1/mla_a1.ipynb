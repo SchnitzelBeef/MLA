{
 "cells": [
  {
   "cell_type": "code",
   "execution_count": 131,
   "id": "f1cdeeed",
   "metadata": {},
   "outputs": [],
   "source": [
    "import numpy as np\n",
    "import matplotlib.pyplot as plt\n"
   ]
  },
  {
   "cell_type": "code",
   "execution_count": 132,
   "id": "5cf0c30f",
   "metadata": {},
   "outputs": [
    {
     "data": {
      "image/png": "[encoded data removed]",
      "text/plain": [
       "<Figure size 640x480 with 1 Axes>"
      ]
     },
     "metadata": {},
     "output_type": "display_data"
    }
   ],
   "source": [
    "\n",
    "# Load the data from MNIST-5-6-Subset.txt\n",
    "# Change the path as needed\n",
    "data_file_path = \"MNIST-5-6-Subset.txt\"\n",
    "data_matrix = np.loadtxt(data_file_path).reshape(1877, 784)\n",
    "# Load the labels from MNIST-5-6-Labels.txt\n",
    "# Change the path as needed\n",
    "labels_file_path = \"MNIST-5-6-Subset-Labels.txt\"\n",
    "labels = np.loadtxt(labels_file_path)\n",
    "# Assuming you want to visualize the first image\n",
    "\n",
    "# Index changed\n",
    "indicator_labels = (labels-5)*2-1\n",
    "\n",
    "image_index = 0\n",
    "image_data = data_matrix[image_index]\n",
    "selected_label = int(indicator_labels[image_index])\n",
    "# Visualize the image using Matplotlib\n",
    "# We transpose the image to make the number look upright.\n",
    "plt.imshow(image_data.reshape(28,28).transpose(1,0), cmap='gray')\n",
    "plt.title(f\"Label: {selected_label}\")\n",
    "plt.axis('off') # Turn off axis\n",
    "plt.show()"
   ]
  },
  {
   "cell_type": "code",
   "execution_count": 133,
   "id": "6c8dd754",
   "metadata": {},
   "outputs": [],
   "source": [
    "def knn(training_points, training_labels, test_points, test_labels):\n",
    "    m = training_points.shape[0]\n",
    "    n = test_points.shape[0]\n",
    "    \n",
    "    print(f\"m: {m}\")\n",
    "    print(f\"n: {n}\")\n",
    "\n",
    "    # Calculates dot products\n",
    "    training_dot_training = np.dot(training_points, np.transpose(training_points))\n",
    "    training_dot_test = np.dot(training_points, np.transpose(test_points))\n",
    "    test_dot_test = np.dot(test_points, np.transpose(test_points))\n",
    "    \n",
    "    # Formula from assignment text\n",
    "    fst_part = np.outer(np.diag(training_dot_training), np.transpose(np.ones(n)))\n",
    "    snd_part = 2 * training_dot_test\n",
    "    trd_part = np.outer(np.transpose(np.ones(m)), np.transpose(np.diag(test_dot_test)))\n",
    "\n",
    "    # All distances as m x n matrix (from assignment text)\n",
    "    distances = np.transpose(fst_part - snd_part + trd_part)\n",
    "\n",
    "    # Sorted indices\n",
    "    indices = np.argsort(distances)\n",
    "\n",
    "    # Count the majority vote for all K closest points     \n",
    "    Y = list(map(lambda x, y: np.sign(np.cumsum((training_labels[x] == y)*2-1)), indices, test_labels))\n",
    "\n",
    "    # m-vector of average error of K-nn\n",
    "    return 1 - sum(Y) / n\n",
    "\n",
    "    \n",
    "    "
   ]
  },
  {
   "cell_type": "code",
   "execution_count": 134,
   "id": "b7b061e9",
   "metadata": {},
   "outputs": [
    {
     "name": "stdout",
     "output_type": "stream",
     "text": [
      "m: 50\n",
      "n: 1826\n",
      "[0.15553122 0.18346112 0.15334064 0.17141292 0.15881709 0.17907996\n",
      " 0.18072289 0.18838992 0.20153341 0.20865279 0.2135816  0.23986857\n",
      " 0.2475356  0.25027382 0.26286966 0.27491785 0.28148959 0.29025192\n",
      " 0.31106243 0.30996714 0.31325301 0.32146769 0.33515882 0.34720701\n",
      " 0.35706462 0.36911281 0.38773275 0.42661555 0.45345016 0.50273823\n",
      " 0.55859803 0.59364732 0.63417306 0.65662651 0.69989047 0.7135816\n",
      " 0.73713034 0.75739321 0.77765608 0.79518072 0.82146769 0.84008762\n",
      " 0.87513691 0.8932092  0.92004381 0.92004381 0.92004381 0.92004381\n",
      " 0.92004381 0.92004381]\n"
     ]
    }
   ],
   "source": [
    "m = 50\n",
    "\n",
    "training_data = data_matrix[:m]\n",
    "training_labels = indicator_labels[:m]\n",
    "\n",
    "testing_data = data_matrix[m+1:]\n",
    "testing_labels = indicator_labels[m+1:]\n",
    "\n",
    "print(knn(training_data, training_labels, testing_data, testing_labels))\n"
   ]
  }
 ],
 "metadata": {
  "kernelspec": {
   "display_name": "Python 3",
   "language": "python",
   "name": "python3"
  },
  "language_info": {
   "codemirror_mode": {
    "name": "ipython",
    "version": 3
   },
   "file_extension": ".py",
   "mimetype": "text/x-python",
   "name": "python",
   "nbconvert_exporter": "python",
   "pygments_lexer": "ipython3",
   "version": "3.13.7"
  }
 },
 "nbformat": 4,
 "nbformat_minor": 5
}
