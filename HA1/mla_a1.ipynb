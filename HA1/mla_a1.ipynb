{
 "cells": [
  {
   "cell_type": "code",
   "execution_count": 82,
   "id": "f1cdeeed",
   "metadata": {},
   "outputs": [],
   "source": [
    "import numpy as np\n",
    "import matplotlib.pyplot as plt\n"
   ]
  },
  {
   "cell_type": "code",
   "execution_count": 83,
   "id": "5cf0c30f",
   "metadata": {},
   "outputs": [
    {
     "data": {
      "image/png": "[encoded data removed]",
      "text/plain": [
       "<Figure size 640x480 with 1 Axes>"
      ]
     },
     "metadata": {},
     "output_type": "display_data"
    }
   ],
   "source": [
    "\n",
    "# Load the data from MNIST-5-6-Subset.txt\n",
    "# Change the path as needed\n",
    "data_file_path = \"MNIST-5-6-Subset.txt\"\n",
    "data_matrix = np.loadtxt(data_file_path).reshape(1877, 784)\n",
    "# Load the labels from MNIST-5-6-Labels.txt\n",
    "# Change the path as needed\n",
    "labels_file_path = \"MNIST-5-6-Subset-Labels.txt\"\n",
    "labels = np.loadtxt(labels_file_path)\n",
    "# Assuming you want to visualize the first image\n",
    "\n",
    "# Index changed\n",
    "indicator_labels = (labels-5)*2-1\n",
    "\n",
    "image_index = 0\n",
    "image_data = data_matrix[image_index]\n",
    "selected_label = int(indicator_labels[image_index])\n",
    "# Visualize the image using Matplotlib\n",
    "# We transpose the image to make the number look upright.\n",
    "plt.imshow(image_data.reshape(28,28).transpose(1,0), cmap='gray')\n",
    "plt.title(f\"Label: {selected_label}\")\n",
    "plt.axis('off') # Turn off axis\n",
    "plt.show()"
   ]
  },
  {
   "cell_type": "code",
   "execution_count": 132,
   "id": "6c8dd754",
   "metadata": {},
   "outputs": [],
   "source": [
    "def knn(training_points, training_labels, test_points, test_labels):\n",
    "    m = training_points.shape[1]\n",
    "    n = test_points.shape[1]\n",
    "    \n",
    "    training_dot_training = np.dot(np.transpose(training_points), training_points)\n",
    "    \n",
    "    training_dot_test = np.matmul(training_points, np.transpose(test_points))\n",
    "    test_dot_test = np.dot(np.transpose(test_points), test_points)\n",
    "    \n",
    "    # Formula from assignment text\n",
    "    fst_part = np.matmul(np.diag(training_dot_training), np.transpose(np.ones(n)))\n",
    "    snd_part = 2 * training_dot_test\n",
    "    trd_part = np.dot(np.transpose(np.ones(m)), np.transpose(np.diag(test_dot_test)))\n",
    "    \n",
    "    distances = (fst_part - snd_part + trd_part)\n",
    "    indices = np.argsort(distances)\n",
    "    # print(f\"distance {distances}, shape: {distances.shape}\")\n",
    "    # print(f\"indices {indices}, shape: {indices.shape}\")\n",
    "    \n",
    "    # print(training_labels.shape)\n",
    "    # print(indices.shape)\n",
    "    \n",
    "    Y = training_labels[indices]\n",
    "    \n",
    "    \n",
    "    print(np.sign(np.cumsum(Y)))\n",
    "\n",
    "    \n",
    "    \n",
    "    "
   ]
  },
  {
   "cell_type": "code",
   "execution_count": null,
   "id": "b7b061e9",
   "metadata": {},
   "outputs": [
    {
     "name": "stdout",
     "output_type": "stream",
     "text": [
      "(48, 784)\n",
      "(1, 784)\n",
      "[1. 1. 1. 1. 1. 1. 1. 1. 1. 1. 1. 1. 1. 1. 1. 1. 1. 1. 1. 1. 1. 1. 1. 1.\n",
      " 1. 1. 1. 1. 1. 1. 1. 1. 1. 1. 1. 1. 1. 1. 1. 1. 1. 1. 1. 1. 1. 1. 1. 1.]\n"
     ]
    }
   ],
   "source": [
    "# Subset of the data is selected for training:\n",
    "m = 50\n",
    "\n",
    "training_data = data_matrix[3:m]\n",
    "training_labels = indicator_labels[2:m]\n",
    "\n",
    "testing_data = data_matrix[0:1]\n",
    "testing_labels = indicator_labels[0:1]\n",
    "\n",
    "print(training_data.shape)\n",
    "print(testing_data.shape)\n",
    "\n",
    "knn(training_data, training_labels, testing_data, testing_labels)\n"
   ]
  }
 ],
 "metadata": {
  "kernelspec": {
   "display_name": "Python 3",
   "language": "python",
   "name": "python3"
  },
  "language_info": {
   "codemirror_mode": {
    "name": "ipython",
    "version": 3
   },
   "file_extension": ".py",
   "mimetype": "text/x-python",
   "name": "python",
   "nbconvert_exporter": "python",
   "pygments_lexer": "ipython3",
   "version": "3.12.10"
  }
 },
 "nbformat": 4,
 "nbformat_minor": 5
}
